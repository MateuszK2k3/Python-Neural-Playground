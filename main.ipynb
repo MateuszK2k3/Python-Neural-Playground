{
 "cells": [
  {
   "cell_type": "code",
   "id": "e9ce73d7fa652b74",
   "metadata": {},
   "source": [
    "import numpy as np\n",
    "import matplotlib.pyplot as plt\n",
    "import keras\n",
    "from keras import layers\n",
    "\n",
    "# \n",
    "num_classes = 10\n",
    "input_shape = (28, 28, 1)\n",
    "\n",
    "# \n",
    "(x_train, y_train), (x_test, y_test) = keras.datasets.mnist.load_data()\n",
    "\n",
    "# skalowanie do zakresu [0, 1] range\n",
    "x_train = x_train.astype(\"float32\") / 255\n",
    "x_test = x_test.astype(\"float32\") / 255\n",
    "\n",
    "# konwersja do wymiaru (28, 28, 1)\n",
    "x_train = np.expand_dims(x_train, -1)\n",
    "x_test = np.expand_dims(x_test, -1)"
   ],
   "outputs": [],
   "execution_count": null
  },
  {
   "metadata": {},
   "cell_type": "code",
   "source": [
    "print(\"x_train shape:\", x_train.shape)\n",
    "print(x_train.shape[0], \"train samples\")\n",
    "print(x_test.shape[0], \"test samples\")"
   ],
   "id": "60d8c26553dc3a6f",
   "outputs": [],
   "execution_count": null
  },
  {
   "metadata": {},
   "cell_type": "code",
   "source": [
    "# konwersja na klasy\n",
    "y_train = keras.utils.to_categorical(y_train, num_classes)\n",
    "y_test = keras.utils.to_categorical(y_test, num_classes)"
   ],
   "id": "11f69a68d0a97259",
   "outputs": [],
   "execution_count": null
  },
  {
   "metadata": {},
   "cell_type": "code",
   "source": [
    "# model\n",
    "model2 = keras.Sequential([\n",
    "    layers.Input(shape=(28, 28)),  # Flatten the 28x28 images into a 1D array\n",
    "    layers.Flatten(),\n",
    "    layers.Dense(128, activation='relu'),  # Fully connected layer with 128 neurons\n",
    "    layers.Dense(64, activation='relu'),  # Fully connected layer with 64 neurons\n",
    "    layers.Dense(10, activation='softmax')  # Output layer with 10 neurons (one for each digit)\n",
    "])"
   ],
   "id": "77e0a95cbd1bbee9",
   "outputs": [],
   "execution_count": null
  },
  {
   "metadata": {},
   "cell_type": "code",
   "source": "model2.summary()",
   "id": "388569d66a648711",
   "outputs": [],
   "execution_count": null
  },
  {
   "metadata": {},
   "cell_type": "code",
   "source": [
    "# kompilacja\n",
    "model2.compile(optimizer='adam',\n",
    "               loss='categorical_crossentropy',\n",
    "               metrics=['accuracy'])"
   ],
   "id": "7a8766edee0f06c7",
   "outputs": [],
   "execution_count": null
  },
  {
   "metadata": {},
   "cell_type": "code",
   "source": [
    "# trening\n",
    "model2.fit(x_train, y_train, epochs=3, batch_size=1, validation_split=0.2)"
   ],
   "id": "a7adfbf69baa6592",
   "outputs": [],
   "execution_count": null
  },
  {
   "metadata": {},
   "cell_type": "code",
   "source": [
    "# analiza dokładności\n",
    "test_loss, test_acc = model2.evaluate(x_test, y_test, verbose=2)\n",
    "print(f\"Test accuracy: {test_acc}\")"
   ],
   "id": "c6d8dfc9651e0dde",
   "outputs": [],
   "execution_count": null
  },
  {
   "metadata": {},
   "cell_type": "code",
   "source": [
    "# predykcja na zbiorze testowym\n",
    "predictions = model2.predict(x_test)"
   ],
   "id": "d76f3e40b5a7e83b",
   "outputs": [],
   "execution_count": null
  },
  {
   "metadata": {},
   "cell_type": "code",
   "source": "predicted_labels = np.argmax(predictions, axis=1)  ",
   "id": "e77f0068b4dbc32b",
   "outputs": [],
   "execution_count": null
  },
  {
   "metadata": {},
   "cell_type": "code",
   "source": [
    "# generowanie wykresów\n",
    "def plot_predictions(images, true_labels, predicted_labels, n=12):\n",
    "    plt.figure(figsize=(12, 4))\n",
    "    for i in range(n):\n",
    "        plt.subplot(4, n // 4, i + 1)\n",
    "        plt.imshow(images[i], cmap='gray')\n",
    "        plt.title(f\"True: {true_labels[i]}\\nPred: {predicted_labels[i]}\")\n",
    "        plt.axis('off')\n",
    "    plt.tight_layout()\n",
    "    plt.show()\n",
    "\n",
    "# wizualizacja wyników predykcji\n",
    "plot_predictions(x_test, y_test, predicted_labels, n=12)"
   ],
   "id": "3c70a0ba4282dfbb",
   "outputs": [],
   "execution_count": null
  },
  {
   "metadata": {},
   "cell_type": "code",
   "source": [
    "from sklearn.metrics import confusion_matrix, ConfusionMatrixDisplay\n",
    "\n",
    "# obliczenie macierzy pomyłek\n",
    "true_labels = np.argmax(y_test, axis=1)\n",
    "cm = confusion_matrix(true_labels, predicted_labels)\n",
    "print(cm)"
   ],
   "id": "4493b3755b219851",
   "outputs": [],
   "execution_count": null
  },
  {
   "metadata": {},
   "cell_type": "code",
   "source": [
    "# wyświetlenie macierzy pomyłek\n",
    "disp = ConfusionMatrixDisplay(confusion_matrix=cm, display_labels=range(10))\n",
    "disp.plot(cmap=plt.cm.Blues, values_format='d')  # Use a blue color map\n",
    "plt.title(\"Confusion Matrix\")\n",
    "plt.show()"
   ],
   "id": "e7e3340d037ca6f8",
   "outputs": [],
   "execution_count": null
  }
 ],
 "metadata": {
  "kernelspec": {
   "display_name": "Python 3",
   "language": "python",
   "name": "python3"
  },
  "language_info": {
   "codemirror_mode": {
    "name": "ipython",
    "version": 2
   },
   "file_extension": ".py",
   "mimetype": "text/x-python",
   "name": "python",
   "nbconvert_exporter": "python",
   "pygments_lexer": "ipython2",
   "version": "2.7.6"
  }
 },
 "nbformat": 4,
 "nbformat_minor": 5
}
